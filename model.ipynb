{
 "cells": [
  {
   "cell_type": "code",
   "execution_count": 1,
   "metadata": {},
   "outputs": [],
   "source": [
    "import pandas as pd"
   ]
  },
  {
   "cell_type": "code",
   "execution_count": 2,
   "metadata": {},
   "outputs": [
    {
     "data": {
      "text/html": [
       "<div>\n",
       "<style scoped>\n",
       "    .dataframe tbody tr th:only-of-type {\n",
       "        vertical-align: middle;\n",
       "    }\n",
       "\n",
       "    .dataframe tbody tr th {\n",
       "        vertical-align: top;\n",
       "    }\n",
       "\n",
       "    .dataframe thead th {\n",
       "        text-align: right;\n",
       "    }\n",
       "</style>\n",
       "<table border=\"1\" class=\"dataframe\">\n",
       "  <thead>\n",
       "    <tr style=\"text-align: right;\">\n",
       "      <th></th>\n",
       "      <th>tag</th>\n",
       "      <th>patterns__001</th>\n",
       "      <th>patterns__002</th>\n",
       "      <th>patterns__003</th>\n",
       "      <th>patterns__004</th>\n",
       "      <th>patterns__005</th>\n",
       "      <th>patterns__006</th>\n",
       "      <th>patterns__007</th>\n",
       "      <th>responses__-</th>\n",
       "      <th>context_set</th>\n",
       "    </tr>\n",
       "  </thead>\n",
       "  <tbody>\n",
       "    <tr>\n",
       "      <th>0</th>\n",
       "      <td>Cuts</td>\n",
       "      <td>What to do if Cuts?</td>\n",
       "      <td>How to cure Cuts?</td>\n",
       "      <td>Which medicine to apply for Cuts?</td>\n",
       "      <td>what to apply on cuts?</td>\n",
       "      <td>Cuts</td>\n",
       "      <td>NaN</td>\n",
       "      <td>NaN</td>\n",
       "      <td>Wash the cut properly to prevent infection and...</td>\n",
       "      <td>NaN</td>\n",
       "    </tr>\n",
       "    <tr>\n",
       "      <th>1</th>\n",
       "      <td>Abrasions</td>\n",
       "      <td>how do you treat abrasions?</td>\n",
       "      <td>Do Abrasions cause scars?</td>\n",
       "      <td>Abrasions</td>\n",
       "      <td>what to do if abrasions?</td>\n",
       "      <td>Which medicine to apply for abrasions?</td>\n",
       "      <td>How to cure abrasions?</td>\n",
       "      <td>NaN</td>\n",
       "      <td>Begin with washed hands.Gently clean the area ...</td>\n",
       "      <td>NaN</td>\n",
       "    </tr>\n",
       "  </tbody>\n",
       "</table>\n",
       "</div>"
      ],
      "text/plain": [
       "         tag                patterns__001              patterns__002  \\\n",
       "0       Cuts          What to do if Cuts?          How to cure Cuts?   \n",
       "1  Abrasions  how do you treat abrasions?  Do Abrasions cause scars?   \n",
       "\n",
       "                       patterns__003             patterns__004  \\\n",
       "0  Which medicine to apply for Cuts?    what to apply on cuts?   \n",
       "1                          Abrasions  what to do if abrasions?   \n",
       "\n",
       "                            patterns__005           patterns__006  \\\n",
       "0                                    Cuts                     NaN   \n",
       "1  Which medicine to apply for abrasions?  How to cure abrasions?   \n",
       "\n",
       "  patterns__007                                       responses__-  \\\n",
       "0           NaN  Wash the cut properly to prevent infection and...   \n",
       "1           NaN  Begin with washed hands.Gently clean the area ...   \n",
       "\n",
       "   context_set  \n",
       "0          NaN  \n",
       "1          NaN  "
      ]
     },
     "execution_count": 2,
     "metadata": {},
     "output_type": "execute_result"
    }
   ],
   "source": [
    "df = pd.read_csv('medical_data.csv')\n",
    "df.head(2)"
   ]
  },
  {
   "cell_type": "code",
   "execution_count": 3,
   "metadata": {},
   "outputs": [
    {
     "name": "stdout",
     "output_type": "stream",
     "text": [
      "<class 'pandas.core.frame.DataFrame'>\n",
      "RangeIndex: 44 entries, 0 to 43\n",
      "Data columns (total 10 columns):\n",
      " #   Column         Non-Null Count  Dtype  \n",
      "---  ------         --------------  -----  \n",
      " 0   tag            44 non-null     object \n",
      " 1   patterns__001  44 non-null     object \n",
      " 2   patterns__002  44 non-null     object \n",
      " 3   patterns__003  44 non-null     object \n",
      " 4   patterns__004  44 non-null     object \n",
      " 5   patterns__005  7 non-null      object \n",
      " 6   patterns__006  4 non-null      object \n",
      " 7   patterns__007  1 non-null      object \n",
      " 8   responses__-   44 non-null     object \n",
      " 9   context_set    0 non-null      float64\n",
      "dtypes: float64(1), object(9)\n",
      "memory usage: 3.6+ KB\n"
     ]
    }
   ],
   "source": [
    "df.info()"
   ]
  },
  {
   "cell_type": "code",
   "execution_count": 4,
   "metadata": {},
   "outputs": [],
   "source": [
    "column_names = ['patterns__001', 'patterns__002','patterns__003', 'patterns__004', 'patterns__005', 'patterns__006', 'patterns__007'] \n",
    "df[column_names] = df[column_names].map(lambda x: str(x))"
   ]
  },
  {
   "cell_type": "code",
   "execution_count": 5,
   "metadata": {},
   "outputs": [
    {
     "name": "stdout",
     "output_type": "stream",
     "text": [
      "<class 'pandas.core.frame.DataFrame'>\n",
      "RangeIndex: 44 entries, 0 to 43\n",
      "Data columns (total 10 columns):\n",
      " #   Column         Non-Null Count  Dtype  \n",
      "---  ------         --------------  -----  \n",
      " 0   tag            44 non-null     object \n",
      " 1   patterns__001  44 non-null     object \n",
      " 2   patterns__002  44 non-null     object \n",
      " 3   patterns__003  44 non-null     object \n",
      " 4   patterns__004  44 non-null     object \n",
      " 5   patterns__005  44 non-null     object \n",
      " 6   patterns__006  44 non-null     object \n",
      " 7   patterns__007  44 non-null     object \n",
      " 8   responses__-   44 non-null     object \n",
      " 9   context_set    0 non-null      float64\n",
      "dtypes: float64(1), object(9)\n",
      "memory usage: 3.6+ KB\n"
     ]
    }
   ],
   "source": [
    "df.info()"
   ]
  },
  {
   "cell_type": "code",
   "execution_count": 6,
   "metadata": {},
   "outputs": [
    {
     "data": {
      "text/html": [
       "<div>\n",
       "<style scoped>\n",
       "    .dataframe tbody tr th:only-of-type {\n",
       "        vertical-align: middle;\n",
       "    }\n",
       "\n",
       "    .dataframe tbody tr th {\n",
       "        vertical-align: top;\n",
       "    }\n",
       "\n",
       "    .dataframe thead th {\n",
       "        text-align: right;\n",
       "    }\n",
       "</style>\n",
       "<table border=\"1\" class=\"dataframe\">\n",
       "  <thead>\n",
       "    <tr style=\"text-align: right;\">\n",
       "      <th></th>\n",
       "      <th>tag</th>\n",
       "      <th>responses__-</th>\n",
       "      <th>context_set</th>\n",
       "      <th>patterns</th>\n",
       "    </tr>\n",
       "  </thead>\n",
       "  <tbody>\n",
       "    <tr>\n",
       "      <th>0</th>\n",
       "      <td>Cuts</td>\n",
       "      <td>Wash the cut properly to prevent infection and...</td>\n",
       "      <td>NaN</td>\n",
       "      <td>What to do if Cuts? How to cure Cuts? Which me...</td>\n",
       "    </tr>\n",
       "    <tr>\n",
       "      <th>1</th>\n",
       "      <td>Abrasions</td>\n",
       "      <td>Begin with washed hands.Gently clean the area ...</td>\n",
       "      <td>NaN</td>\n",
       "      <td>how do you treat abrasions? Do Abrasions cause...</td>\n",
       "    </tr>\n",
       "    <tr>\n",
       "      <th>2</th>\n",
       "      <td>stings</td>\n",
       "      <td>Remove any stingers immediately. Some experts ...</td>\n",
       "      <td>NaN</td>\n",
       "      <td>How do you treat Sting? Stings What to do if y...</td>\n",
       "    </tr>\n",
       "    <tr>\n",
       "      <th>3</th>\n",
       "      <td>Splinter</td>\n",
       "      <td>1. SOAK IT IN EPSOM SALTS. Dissolve a cup of t...</td>\n",
       "      <td>NaN</td>\n",
       "      <td>How to remove Splinters How to cure Splinters?...</td>\n",
       "    </tr>\n",
       "    <tr>\n",
       "      <th>4</th>\n",
       "      <td>Sprains</td>\n",
       "      <td>Use an ice pack or ice slush bath immediately ...</td>\n",
       "      <td>NaN</td>\n",
       "      <td>How do you treat a sprain? what to do if i get...</td>\n",
       "    </tr>\n",
       "  </tbody>\n",
       "</table>\n",
       "</div>"
      ],
      "text/plain": [
       "         tag                                       responses__-  context_set  \\\n",
       "0       Cuts  Wash the cut properly to prevent infection and...          NaN   \n",
       "1  Abrasions  Begin with washed hands.Gently clean the area ...          NaN   \n",
       "2     stings  Remove any stingers immediately. Some experts ...          NaN   \n",
       "3   Splinter  1. SOAK IT IN EPSOM SALTS. Dissolve a cup of t...          NaN   \n",
       "4    Sprains  Use an ice pack or ice slush bath immediately ...          NaN   \n",
       "\n",
       "                                            patterns  \n",
       "0  What to do if Cuts? How to cure Cuts? Which me...  \n",
       "1  how do you treat abrasions? Do Abrasions cause...  \n",
       "2  How do you treat Sting? Stings What to do if y...  \n",
       "3  How to remove Splinters How to cure Splinters?...  \n",
       "4  How do you treat a sprain? what to do if i get...  "
      ]
     },
     "execution_count": 6,
     "metadata": {},
     "output_type": "execute_result"
    }
   ],
   "source": [
    "column_names = ['patterns__001', 'patterns__002','patterns__003', 'patterns__004', 'patterns__005', 'patterns__006', 'patterns__007']\n",
    "df['patterns'] = df[column_names].apply(lambda row: ' '.join(row), axis=1)\n",
    "df = df.drop(columns=column_names)\n",
    "df.head(5)"
   ]
  },
  {
   "cell_type": "code",
   "execution_count": 7,
   "metadata": {},
   "outputs": [],
   "source": [
    "df.drop(columns = 'context_set', inplace=True)"
   ]
  },
  {
   "cell_type": "code",
   "execution_count": 8,
   "metadata": {},
   "outputs": [
    {
     "data": {
      "text/html": [
       "<div>\n",
       "<style scoped>\n",
       "    .dataframe tbody tr th:only-of-type {\n",
       "        vertical-align: middle;\n",
       "    }\n",
       "\n",
       "    .dataframe tbody tr th {\n",
       "        vertical-align: top;\n",
       "    }\n",
       "\n",
       "    .dataframe thead th {\n",
       "        text-align: right;\n",
       "    }\n",
       "</style>\n",
       "<table border=\"1\" class=\"dataframe\">\n",
       "  <thead>\n",
       "    <tr style=\"text-align: right;\">\n",
       "      <th></th>\n",
       "      <th>tag</th>\n",
       "      <th>responses__-</th>\n",
       "      <th>patterns</th>\n",
       "    </tr>\n",
       "  </thead>\n",
       "  <tbody>\n",
       "    <tr>\n",
       "      <th>0</th>\n",
       "      <td>Cuts</td>\n",
       "      <td>Wash the cut properly to prevent infection and...</td>\n",
       "      <td>What to do if Cuts? How to cure Cuts? Which me...</td>\n",
       "    </tr>\n",
       "    <tr>\n",
       "      <th>1</th>\n",
       "      <td>Abrasions</td>\n",
       "      <td>Begin with washed hands.Gently clean the area ...</td>\n",
       "      <td>how do you treat abrasions? Do Abrasions cause...</td>\n",
       "    </tr>\n",
       "    <tr>\n",
       "      <th>2</th>\n",
       "      <td>stings</td>\n",
       "      <td>Remove any stingers immediately. Some experts ...</td>\n",
       "      <td>How do you treat Sting? Stings What to do if y...</td>\n",
       "    </tr>\n",
       "    <tr>\n",
       "      <th>3</th>\n",
       "      <td>Splinter</td>\n",
       "      <td>1. SOAK IT IN EPSOM SALTS. Dissolve a cup of t...</td>\n",
       "      <td>How to remove Splinters How to cure Splinters?...</td>\n",
       "    </tr>\n",
       "    <tr>\n",
       "      <th>4</th>\n",
       "      <td>Sprains</td>\n",
       "      <td>Use an ice pack or ice slush bath immediately ...</td>\n",
       "      <td>How do you treat a sprain? what to do if i get...</td>\n",
       "    </tr>\n",
       "  </tbody>\n",
       "</table>\n",
       "</div>"
      ],
      "text/plain": [
       "         tag                                       responses__-  \\\n",
       "0       Cuts  Wash the cut properly to prevent infection and...   \n",
       "1  Abrasions  Begin with washed hands.Gently clean the area ...   \n",
       "2     stings  Remove any stingers immediately. Some experts ...   \n",
       "3   Splinter  1. SOAK IT IN EPSOM SALTS. Dissolve a cup of t...   \n",
       "4    Sprains  Use an ice pack or ice slush bath immediately ...   \n",
       "\n",
       "                                            patterns  \n",
       "0  What to do if Cuts? How to cure Cuts? Which me...  \n",
       "1  how do you treat abrasions? Do Abrasions cause...  \n",
       "2  How do you treat Sting? Stings What to do if y...  \n",
       "3  How to remove Splinters How to cure Splinters?...  \n",
       "4  How do you treat a sprain? what to do if i get...  "
      ]
     },
     "execution_count": 8,
     "metadata": {},
     "output_type": "execute_result"
    }
   ],
   "source": [
    "df.head(5)"
   ]
  },
  {
   "cell_type": "code",
   "execution_count": 9,
   "metadata": {},
   "outputs": [
    {
     "data": {
      "text/html": [
       "<div>\n",
       "<style scoped>\n",
       "    .dataframe tbody tr th:only-of-type {\n",
       "        vertical-align: middle;\n",
       "    }\n",
       "\n",
       "    .dataframe tbody tr th {\n",
       "        vertical-align: top;\n",
       "    }\n",
       "\n",
       "    .dataframe thead th {\n",
       "        text-align: right;\n",
       "    }\n",
       "</style>\n",
       "<table border=\"1\" class=\"dataframe\">\n",
       "  <thead>\n",
       "    <tr style=\"text-align: right;\">\n",
       "      <th></th>\n",
       "      <th>patterns</th>\n",
       "      <th>responses</th>\n",
       "    </tr>\n",
       "  </thead>\n",
       "  <tbody>\n",
       "    <tr>\n",
       "      <th>0</th>\n",
       "      <td>What to do if Cuts? How to cure Cuts? Which me...</td>\n",
       "      <td>Wash the cut properly to prevent infection and...</td>\n",
       "    </tr>\n",
       "    <tr>\n",
       "      <th>1</th>\n",
       "      <td>how do you treat abrasions? Do Abrasions cause...</td>\n",
       "      <td>Begin with washed hands.Gently clean the area ...</td>\n",
       "    </tr>\n",
       "    <tr>\n",
       "      <th>2</th>\n",
       "      <td>How do you treat Sting? Stings What to do if y...</td>\n",
       "      <td>Remove any stingers immediately. Some experts ...</td>\n",
       "    </tr>\n",
       "    <tr>\n",
       "      <th>3</th>\n",
       "      <td>How to remove Splinters How to cure Splinters?...</td>\n",
       "      <td>1. SOAK IT IN EPSOM SALTS. Dissolve a cup of t...</td>\n",
       "    </tr>\n",
       "    <tr>\n",
       "      <th>4</th>\n",
       "      <td>How do you treat a sprain? what to do if i get...</td>\n",
       "      <td>Use an ice pack or ice slush bath immediately ...</td>\n",
       "    </tr>\n",
       "  </tbody>\n",
       "</table>\n",
       "</div>"
      ],
      "text/plain": [
       "                                            patterns  \\\n",
       "0  What to do if Cuts? How to cure Cuts? Which me...   \n",
       "1  how do you treat abrasions? Do Abrasions cause...   \n",
       "2  How do you treat Sting? Stings What to do if y...   \n",
       "3  How to remove Splinters How to cure Splinters?...   \n",
       "4  How do you treat a sprain? what to do if i get...   \n",
       "\n",
       "                                           responses  \n",
       "0  Wash the cut properly to prevent infection and...  \n",
       "1  Begin with washed hands.Gently clean the area ...  \n",
       "2  Remove any stingers immediately. Some experts ...  \n",
       "3  1. SOAK IT IN EPSOM SALTS. Dissolve a cup of t...  \n",
       "4  Use an ice pack or ice slush bath immediately ...  "
      ]
     },
     "execution_count": 9,
     "metadata": {},
     "output_type": "execute_result"
    }
   ],
   "source": [
    "df['responses'] =df ['responses__-']\n",
    "df.drop(columns = 'responses__-', inplace=True)\n",
    "df.drop(columns = 'tag', inplace=True)\n",
    "\n",
    "df.head(5)"
   ]
  },
  {
   "cell_type": "code",
   "execution_count": 10,
   "metadata": {},
   "outputs": [
    {
     "data": {
      "text/plain": [
       "(44, 2)"
      ]
     },
     "execution_count": 10,
     "metadata": {},
     "output_type": "execute_result"
    }
   ],
   "source": [
    "df.shape"
   ]
  },
  {
   "cell_type": "code",
   "execution_count": 11,
   "metadata": {},
   "outputs": [],
   "source": [
    "\n",
    "import pandas as pd\n",
    "import numpy as np\n",
    "from sklearn.feature_extraction.text import CountVectorizer\n",
    "from sklearn.metrics.pairwise import cosine_similarity\n",
    "from sklearn.pipeline import make_pipeline\n",
    "from sklearn.preprocessing import FunctionTransformer\n",
    "from sklearn.svm import LinearSVC\n",
    "import nltk\n",
    "from nltk.tokenize import word_tokenize\n",
    "from nltk.corpus import stopwords\n",
    "from nltk.stem import WordNetLemmatizer\n",
    "from sklearn.pipeline import make_pipeline\n",
    "from sklearn.preprocessing import FunctionTransformer\n",
    "from utils import sparse_to_dense\n"
   ]
  },
  {
   "cell_type": "code",
   "execution_count": 12,
   "metadata": {},
   "outputs": [
    {
     "name": "stderr",
     "output_type": "stream",
     "text": [
      "[nltk_data] Downloading package punkt to\n",
      "[nltk_data]     C:\\Users\\khars\\AppData\\Roaming\\nltk_data...\n",
      "[nltk_data]   Package punkt is already up-to-date!\n",
      "[nltk_data] Downloading package stopwords to\n",
      "[nltk_data]     C:\\Users\\khars\\AppData\\Roaming\\nltk_data...\n",
      "[nltk_data]   Package stopwords is already up-to-date!\n",
      "[nltk_data] Downloading package wordnet to\n",
      "[nltk_data]     C:\\Users\\khars\\AppData\\Roaming\\nltk_data...\n",
      "[nltk_data]   Package wordnet is already up-to-date!\n"
     ]
    },
    {
     "data": {
      "text/plain": [
       "True"
      ]
     },
     "execution_count": 12,
     "metadata": {},
     "output_type": "execute_result"
    }
   ],
   "source": [
    "nltk.download('punkt')\n",
    "nltk.download('stopwords')\n",
    "nltk.download('wordnet')"
   ]
  },
  {
   "cell_type": "code",
   "execution_count": 15,
   "metadata": {},
   "outputs": [],
   "source": [
    "import string\n",
    "def preprocess_text(text):\n",
    "    text = text.lower()  # Convert text to lowercase\n",
    "    \n",
    "    # Remove punctuation using the string module\n",
    "    text = text.translate(str.maketrans('', '', string.punctuation))\n",
    "    \n",
    "    tokens = word_tokenize(text)  # Tokenize text\n",
    "    stop_words = set(stopwords.words('english'))  # Get English stopwords\n",
    "    filtered_tokens = [word for word in tokens if word not in stop_words]  # Remove stopwords\n",
    "    lemmatizer = WordNetLemmatizer()  # Initialize lemmatizer\n",
    "    lemmatized_tokens = [lemmatizer.lemmatize(word) for word in filtered_tokens]  # Lemmatize tokens\n",
    "    return ' '.join(lemmatized_tokens)\n"
   ]
  },
  {
   "cell_type": "code",
   "execution_count": 16,
   "metadata": {},
   "outputs": [],
   "source": [
    "df['patterns'] = df['patterns'].apply(preprocess_text)"
   ]
  },
  {
   "cell_type": "code",
   "execution_count": 17,
   "metadata": {},
   "outputs": [
    {
     "name": "stderr",
     "output_type": "stream",
     "text": [
      "c:\\Users\\khars\\AppData\\Local\\Programs\\Python\\Python312\\Lib\\site-packages\\sklearn\\svm\\_classes.py:31: FutureWarning: The default value of `dual` will change from `True` to `'auto'` in 1.5. Set the value of `dual` explicitly to suppress the warning.\n",
      "  warnings.warn(\n"
     ]
    }
   ],
   "source": [
    "# Train chatbot model using scikit-learn\n",
    "vectorizer = CountVectorizer()\n",
    "X = vectorizer.fit_transform(df['patterns'])\n",
    "y = df['responses']\n",
    "model = make_pipeline(CountVectorizer(), FunctionTransformer(sparse_to_dense, accept_sparse=True), LinearSVC())\n",
    "\n",
    "# Fit the pipeline on your data\n",
    "model.fit(df['patterns'], df['responses'])\n",
    "\n",
    "import pickle\n",
    "\n",
    "# Save the model to a file\n",
    "with open('chatbot_model.pkl', 'wb') as f:\n",
    "    pickle.dump(model, f)\n"
   ]
  },
  {
   "cell_type": "code",
   "execution_count": 18,
   "metadata": {},
   "outputs": [
    {
     "name": "stdout",
     "output_type": "stream",
     "text": [
      "Bot: Wash the cut properly to prevent infection and stop the bleeding by applying pressure for 1-2minutes until bleeding stops. Apply Petroleum Jelly to make sure that the wound is moist for quick healing. Finally cover the cut with a sterile bandage. Pain relievers such as acetaminophen can be applied.\n"
     ]
    }
   ],
   "source": [
    "# Test the chatbot\n",
    "user_input = \"What should I do if I have a cut?\"\n",
    "preprocessed_input = preprocess_text(user_input)\n",
    "response = model.predict([preprocessed_input])[0]\n",
    "print(\"Bot:\", response)"
   ]
  },
  {
   "cell_type": "code",
   "execution_count": 19,
   "metadata": {},
   "outputs": [
    {
     "name": "stdout",
     "output_type": "stream",
     "text": [
      "Bot: 1) Cool the skin, 2) Drink water to prevent dehydration., 3) Take a pain reliever such as ibuprofen (Advil, Motrin IB, others) to help with the discomfort and swelling of sunburn. \n"
     ]
    }
   ],
   "source": [
    "user_input = \"I have burn\"\n",
    "preprocessed_input = preprocess_text(user_input)\n",
    "response = model.predict([preprocessed_input])[0]\n",
    "print(\"Bot:\", response)"
   ]
  },
  {
   "cell_type": "code",
   "execution_count": null,
   "metadata": {},
   "outputs": [],
   "source": []
  },
  {
   "cell_type": "code",
   "execution_count": null,
   "metadata": {},
   "outputs": [],
   "source": []
  },
  {
   "cell_type": "code",
   "execution_count": null,
   "metadata": {},
   "outputs": [],
   "source": []
  },
  {
   "cell_type": "code",
   "execution_count": null,
   "metadata": {},
   "outputs": [],
   "source": []
  },
  {
   "cell_type": "code",
   "execution_count": null,
   "metadata": {},
   "outputs": [],
   "source": []
  },
  {
   "cell_type": "code",
   "execution_count": null,
   "metadata": {},
   "outputs": [],
   "source": []
  },
  {
   "cell_type": "code",
   "execution_count": null,
   "metadata": {},
   "outputs": [],
   "source": []
  },
  {
   "cell_type": "code",
   "execution_count": null,
   "metadata": {},
   "outputs": [],
   "source": []
  },
  {
   "cell_type": "code",
   "execution_count": null,
   "metadata": {},
   "outputs": [],
   "source": []
  },
  {
   "cell_type": "code",
   "execution_count": null,
   "metadata": {},
   "outputs": [],
   "source": []
  },
  {
   "cell_type": "code",
   "execution_count": null,
   "metadata": {},
   "outputs": [],
   "source": []
  },
  {
   "cell_type": "code",
   "execution_count": null,
   "metadata": {},
   "outputs": [],
   "source": []
  }
 ],
 "metadata": {
  "kernelspec": {
   "display_name": "Python 3",
   "language": "python",
   "name": "python3"
  },
  "language_info": {
   "codemirror_mode": {
    "name": "ipython",
    "version": 3
   },
   "file_extension": ".py",
   "mimetype": "text/x-python",
   "name": "python",
   "nbconvert_exporter": "python",
   "pygments_lexer": "ipython3",
   "version": "3.12.2"
  }
 },
 "nbformat": 4,
 "nbformat_minor": 2
}
